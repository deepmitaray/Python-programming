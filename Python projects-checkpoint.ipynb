{
 "cells": [
  {
   "cell_type": "code",
   "execution_count": 4,
   "id": "038e48a6",
   "metadata": {},
   "outputs": [
    {
     "name": "stdout",
     "output_type": "stream",
     "text": [
      "enter your nameDeepmita Ray\n",
      "enter your age21\n",
      "enter your passionstudent\n",
      "enter your professionpython developer\n",
      "hi my name is Deepmita Ray & my age is 21. & my passion is student & my profession is python developer.\n"
     ]
    }
   ],
   "source": [
    "#project1\n",
    "#Ask user name\n",
    "name = input(\"enter your name\")\n",
    "#Ask user age\n",
    "age = int(input(\"enter your age\"))\n",
    "#ask user passion\n",
    "passion = input(\"enter your passion\")\n",
    "#ask user profession\n",
    "profession = input(\"enter your profession\")\n",
    "#collect all this data info & store it in a sentence\n",
    "sentence= \"hi my name is {} & my age is {}. & my passion is {} & my profession is {}.\".format(name,age,passion,profession)\n",
    "#print the sentence\n",
    "print(sentence)"
   ]
  },
  {
   "cell_type": "code",
   "execution_count": 1,
   "id": "ddbda53f",
   "metadata": {},
   "outputs": [
    {
     "name": "stdout",
     "output_type": "stream",
     "text": [
      "enter your age21\n",
      "enter your weight66\n",
      "enter your height5.5\n",
      "hi my age is 21 & my waight is 66. & my height is 5.5\n"
     ]
    }
   ],
   "source": [
    "#project2\n",
    "#take 2 strings ad them & store in a variables\n",
    "#collect age, weight, height from user\n",
    "#display these parameter together\n",
    "#variable, input concat typecasting formating\n",
    "#my age is----- my weight is----- my height is----\n",
    "age = int(input(\"enter your age\"))\n",
    "weight = input(\"enter your weight\")\n",
    "height = input(\"enter your height\")\n",
    "sentence=\"hi my age is {} & my waight is {}. & my height is {}\".format(age,weight,height)\n",
    "print(sentence)\n"
   ]
  },
  {
   "cell_type": "code",
   "execution_count": 1,
   "id": "5795fc70",
   "metadata": {},
   "outputs": [
    {
     "name": "stdout",
     "output_type": "stream",
     "text": [
      "what's your emaildeepmita372000@gmail.com\n",
      "your username is deepmita372000@ & your domain name is gmail.com\n"
     ]
    }
   ],
   "source": [
    "#project3\n",
    "#slicing-cutting down a large string into small chunks.\n",
    "#get user email\n",
    "email = input(\"what's your email\")\n",
    "#slice user name\n",
    "username = email[:email.index(\"@\")+1]\n",
    "#domain name\n",
    "domain = email[email.index(\"@\")+1 :]\n",
    "#format the email\n",
    "output = \"your username is {} & your domain name is {}\".format(username,domain)\n",
    "print(output)"
   ]
  },
  {
   "cell_type": "code",
   "execution_count": null,
   "id": "7a461ec7",
   "metadata": {},
   "outputs": [],
   "source": []
  }
 ],
 "metadata": {
  "kernelspec": {
   "display_name": "Python 3",
   "language": "python",
   "name": "python3"
  },
  "language_info": {
   "codemirror_mode": {
    "name": "ipython",
    "version": 3
   },
   "file_extension": ".py",
   "mimetype": "text/x-python",
   "name": "python",
   "nbconvert_exporter": "python",
   "pygments_lexer": "ipython3",
   "version": "3.8.8"
  }
 },
 "nbformat": 4,
 "nbformat_minor": 5
}
