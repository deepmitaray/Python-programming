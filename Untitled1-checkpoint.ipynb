{
 "cells": [
  {
   "cell_type": "code",
   "execution_count": 1,
   "id": "e262c7cc",
   "metadata": {},
   "outputs": [
    {
     "name": "stdout",
     "output_type": "stream",
     "text": [
      "hello world\n"
     ]
    }
   ],
   "source": [
    "print(\"hello world\")"
   ]
  },
  {
   "cell_type": "code",
   "execution_count": 3,
   "id": "7d72f0f7",
   "metadata": {},
   "outputs": [
    {
     "name": "stdout",
     "output_type": "stream",
     "text": [
      "Twinkle, twinkle, little star,\n",
      "How I wonder what you are!\n",
      "Up above the world so high,\n",
      "Like a diamond in the sky\n"
     ]
    }
   ],
   "source": [
    "#wap to print twinkle twinkle little star poem in python\n",
    "print('''Twinkle, twinkle, little star,\n",
    "How I wonder what you are!\n",
    "Up above the world so high,\n",
    "Like a diamond in the sky''')"
   ]
  },
  {
   "cell_type": "code",
   "execution_count": 6,
   "id": "aa4a34f8",
   "metadata": {},
   "outputs": [
    {
     "name": "stdout",
     "output_type": "stream",
     "text": [
      "5*1=5\n",
      "5*2=10\n",
      "5*3=15\n",
      "5*4=20\n"
     ]
    }
   ],
   "source": [
    "#Use REPLand print the table of 5 using it\n",
    "print(\"5*1=5\")\n",
    "print(\"5*2=10\")\n",
    "print(\"5*3=15\")\n",
    "print(\"5*4=20\")"
   ]
  },
  {
   "cell_type": "code",
   "execution_count": 7,
   "id": "59e588f6",
   "metadata": {},
   "outputs": [
    {
     "name": "stdout",
     "output_type": "stream",
     "text": [
      "['.ipynb_checkpoints', 'Amazon recommendation system.ipynb', 'donaldwc.png', 'index.py', 'Untitled.ipynb', 'Untitled1.ipynb']\n"
     ]
    }
   ],
   "source": [
    "# wap to print the content of a directory using os module. search online for the function which does thet.\n",
    "import os\n",
    "print(os.listdir())"
   ]
  },
  {
   "cell_type": "code",
   "execution_count": 8,
   "id": "dbd1b840",
   "metadata": {},
   "outputs": [
    {
     "name": "stdout",
     "output_type": "stream",
     "text": [
      "['.ipynb_checkpoints', 'Amazon recommendation system.ipynb', 'donaldwc.png', 'index.py', 'Untitled.ipynb', 'Untitled1.ipynb']\n"
     ]
    }
   ],
   "source": [
    "#label the program written in problem 4 with comments\n",
    "# author\n",
    "# location\n",
    "import os\n",
    "print(os.listdir())"
   ]
  },
  {
   "cell_type": "code",
   "execution_count": 16,
   "id": "d8217cba",
   "metadata": {},
   "outputs": [
    {
     "name": "stdout",
     "output_type": "stream",
     "text": [
      "d\n",
      "25\n",
      "2.1\n",
      "true\n"
     ]
    }
   ],
   "source": [
    "#variable and datatypes\n",
    "a = \"d\"\n",
    "b = 25\n",
    "c = 2.1\n",
    "d = \"true\"\n",
    "print(a)\n",
    "print(b)\n",
    "print(c)\n",
    "print(d)"
   ]
  },
  {
   "cell_type": "code",
   "execution_count": 25,
   "id": "95a7398b",
   "metadata": {},
   "outputs": [
    {
     "name": "stdout",
     "output_type": "stream",
     "text": [
      "the value of 3+4 is 7\n",
      "216.0\n",
      "True\n",
      "The value of bool1 and bool2 is False\n",
      "The value of bool1 or bool2 is True\n"
     ]
    }
   ],
   "source": [
    "#opreator\n",
    "#aritmatic operators\n",
    "a = 3\n",
    "b = 4\n",
    "print(\"the value of 3+4 is\",3+4)\n",
    "\n",
    "#assignment operators\n",
    "a = 34\n",
    "a += 2\n",
    "a *=12\n",
    "a /=2\n",
    "print(a)\n",
    "\n",
    "#comprarision operators\n",
    "b =(14>=7)\n",
    "print(b)\n",
    "\n",
    "#logical operators\n",
    "bool1 = True\n",
    "bool2 = False\n",
    "print(\"The value of bool1 and bool2 is\",(bool1 and bool2))\n",
    "print(\"The value of bool1 or bool2 is\",(bool1 or bool2))"
   ]
  },
  {
   "cell_type": "code",
   "execution_count": 27,
   "id": "17545346",
   "metadata": {},
   "outputs": [
    {
     "name": "stdout",
     "output_type": "stream",
     "text": [
      "enter your name12\n",
      "12\n"
     ]
    }
   ],
   "source": [
    "# type casting\n",
    "a = input(\"enter your name\")\n",
    "# a = int(a)\n",
    "print(a)"
   ]
  },
  {
   "cell_type": "code",
   "execution_count": 28,
   "id": "cb3b22ea",
   "metadata": {},
   "outputs": [
    {
     "name": "stdout",
     "output_type": "stream",
     "text": [
      "The sum of a and b is 36\n"
     ]
    }
   ],
   "source": [
    "#wap to add two numbers\n",
    "a = 12\n",
    "b = 24\n",
    "print(\"The sum of a and b is\",a+b)"
   ]
  },
  {
   "cell_type": "code",
   "execution_count": 29,
   "id": "0deab0ac",
   "metadata": {},
   "outputs": [
    {
     "name": "stdout",
     "output_type": "stream",
     "text": [
      "the remainder when a is divided by b is 0\n"
     ]
    }
   ],
   "source": [
    "#write a python program to find remainder when a number is divided by 2\n",
    "a = 30\n",
    "b =15\n",
    "print(\"the remainder when a is divided by b is\", a%b)\n"
   ]
  },
  {
   "cell_type": "code",
   "execution_count": 31,
   "id": "9b668b53",
   "metadata": {},
   "outputs": [
    {
     "name": "stdout",
     "output_type": "stream",
     "text": [
      "enter first number: 5\n",
      "enter second number: 8\n",
      "the average of a and b is 6.5\n"
     ]
    }
   ],
   "source": [
    "#write a python program to find average of two numbers entered by the user\n",
    "a = input(\"enter first number: \")\n",
    "b = input(\"enter second number: \")\n",
    "a = int(a)\n",
    "b = int(b)\n",
    "avg = (a+b)/2\n",
    "print(\"the average of a and b is\",avg)"
   ]
  },
  {
   "cell_type": "code",
   "execution_count": 19,
   "id": "c3dc1c9c",
   "metadata": {},
   "outputs": [
    {
     "data": {
      "text/plain": [
       "'hrso'"
      ]
     },
     "execution_count": 19,
     "metadata": {},
     "output_type": "execute_result"
    }
   ],
   "source": [
    "#string\n",
    "# a = 34\n",
    "# b = \"deep\"\n",
    "# print(a,b)\n",
    "# print(type(\"a,b\"))\n",
    "greeting = \"good morning\"\n",
    "# name = \"man\"\n",
    "#concatenating two strings\n",
    "# c = greeting + name\n",
    "# print(c)\n",
    "name = \"harry\"\n",
    "print(name[0])# print only \"h\"\n",
    "print(name[0:5])\n",
    "\n",
    "#skip value\n",
    "name = \"harryisgood\"\n",
    "d = name[0: :2]\n",
    "print(d) \n",
    "\n",
    "name = \"harryisgood\"\n",
    "d = name[0: :3]\n",
    "print(d) \n"
   ]
  },
  {
   "cell_type": "code",
   "execution_count": 6,
   "id": "aa1a93ee",
   "metadata": {},
   "outputs": [
    {
     "name": "stdout",
     "output_type": "stream",
     "text": [
      "['hey', 'guys'] <class 'list'>\n"
     ]
    }
   ],
   "source": [
    "# str = \"Python is amazing\" #double quotes\n",
    "# str1 = 'hey guys' #single quotes\n",
    "# str2 = '''hi guys it was a awesome day'''\n",
    "# print(str,str1,str2) \n",
    "str = \"hey guys\"\n",
    "str1 = str.split()#it spearate the string into a list or convert string to list\n",
    "print (str1,type(str1))\n"
   ]
  },
  {
   "cell_type": "code",
   "execution_count": 1,
   "id": "4efcd05b",
   "metadata": {
    "scrolled": true
   },
   "outputs": [
    {
     "name": "stdout",
     "output_type": "stream",
     "text": [
      "83\n",
      "True\n",
      "1\n",
      "Once a upon tym there was a youtuber name harry who upload python course with notes\n",
      "7\n",
      "once a upon tym there was a youtuber name deep who upload python course with notes\n"
     ]
    }
   ],
   "source": [
    "story = \"once a upon tym there was a youtuber name harry who upload python course with notes\"\n",
    "# print(story[0:5]) \n",
    "#String function\n",
    "print(len(story))\n",
    "print(story.endswith(\"notes\"))\n",
    "print(story.count(\"course\"))\n",
    "print(story.capitalize())\n",
    "print(story.find(\"upon\"))\n",
    "print(story.replace(\"harry\",\"deep\"))"
   ]
  },
  {
   "cell_type": "code",
   "execution_count": 2,
   "id": "95ab88e6",
   "metadata": {},
   "outputs": [
    {
     "name": "stdout",
     "output_type": "stream",
     "text": [
      "harry was good.\n",
      "he\tis very good\n"
     ]
    }
   ],
   "source": [
    "#Escape Sequence\n",
    "# Story = \"harry was good.\\nhe is very good\"\n",
    "# print(story)\n",
    "Story = \"harry was good.\\nhe\\tis very good\"\n",
    "print(Story)"
   ]
  },
  {
   "cell_type": "code",
   "execution_count": 4,
   "id": "2f3a6be1",
   "metadata": {},
   "outputs": [
    {
     "name": "stdout",
     "output_type": "stream",
     "text": [
      "enter ur name\n",
      "harry\n",
      "good afternoon, harry\n"
     ]
    }
   ],
   "source": [
    "#wap to display a user ebtered name followed by good afternoon using input()\n",
    "name = input(\"enter ur name\\n\")\n",
    "print(\"good afternoon, \" + name)"
   ]
  },
  {
   "cell_type": "code",
   "execution_count": 7,
   "id": "41c8a62c",
   "metadata": {},
   "outputs": [
    {
     "name": "stdout",
     "output_type": "stream",
     "text": [
      "Enter your namedeep\n",
      "enter a date08 Nov 2021\n",
      "dear deep\n",
      "you are selected\n",
      "Date: 08 Nov 2021\n",
      "\n"
     ]
    }
   ],
   "source": [
    "#wap to fill in a letter template given below with name and date\n",
    "#e.g- letter = '''dear <|name|>,you are selected,<|date|>'''\n",
    "letter = '''dear <|Name|>\n",
    "you are selected\n",
    "Date: <|Date|>\n",
    "'''\n",
    "name = input(\"Enter your name\")\n",
    "date = input(\"enter a date\")\n",
    "letter = letter.replace(\"<|Name|>\", name)\n",
    "letter = letter.replace(\"<|Date|>\", date)\n",
    "print(letter)\n",
    "                       "
   ]
  },
  {
   "cell_type": "code",
   "execution_count": 9,
   "id": "ca4c255d",
   "metadata": {},
   "outputs": [
    {
     "name": "stdout",
     "output_type": "stream",
     "text": [
      "-1\n"
     ]
    }
   ],
   "source": [
    "#wap to detect double spaces in a string\n",
    "St = \"this is a string with double   spaces\"\n",
    "doubleSpaces = St.find(\"  \")\n",
    "print(doubleSpaces)\n",
    "\n",
    "St = \"this is a string with double spaces\"\n",
    "doubleSpaces = St.find(\"  \")\n",
    "print(doubleSpaces)"
   ]
  },
  {
   "cell_type": "code",
   "execution_count": 13,
   "id": "37d20f73",
   "metadata": {},
   "outputs": [
    {
     "name": "stdout",
     "output_type": "stream",
     "text": [
      "this is a string with double spaces\n"
     ]
    }
   ],
   "source": [
    "#Replace the double spaces from problem 3 with single spaces\n",
    "St = \"this  is a string with double  spaces\"\n",
    "doubleSpaces = St.replace(\"  \",\" \")\n",
    "print(doubleSpaces)"
   ]
  },
  {
   "cell_type": "code",
   "execution_count": 15,
   "id": "6f1678c1",
   "metadata": {
    "scrolled": true
   },
   "outputs": [
    {
     "name": "stdout",
     "output_type": "stream",
     "text": [
      "Dear harry , this python cousre is nice! Thanks!\n",
      "Dear harry,\n",
      "this python cousre is nice!\n",
      "Thanks!\n"
     ]
    }
   ],
   "source": [
    "#wap to format the following letter using escape sequence characters\n",
    "letter = \"dear harry , this python course is nice.Thanks!\"\n",
    "letter = '''Dear harry , this python cousre is nice! Thanks!'''\n",
    "print(letter)\n",
    "\n",
    "formatted_letter = '''Dear harry,\\nthis python cousre is nice!\\nThanks!'''\n",
    "print(formatted_letter)"
   ]
  },
  {
   "cell_type": "code",
   "execution_count": 13,
   "id": "8fc01252",
   "metadata": {},
   "outputs": [
    {
     "name": "stdout",
     "output_type": "stream",
     "text": [
      "4\n"
     ]
    }
   ],
   "source": [
    "#find length of string without using len()\n",
    "count=0\n",
    "Name= \"deep\"\n",
    "for j in Name: #i will loop this name\n",
    "    count= count+1 #increment\n",
    "print(count)"
   ]
  },
  {
   "cell_type": "code",
   "execution_count": 14,
   "id": "980a05e2",
   "metadata": {},
   "outputs": [
    {
     "name": "stdout",
     "output_type": "stream",
     "text": [
      "deep\n"
     ]
    }
   ],
   "source": [
    "#strip-simply cutting down\n",
    "#strip() removes space from the begning or from the end of string\n",
    "str=\"          deep      \"\n",
    "print(str.strip())"
   ]
  },
  {
   "cell_type": "code",
   "execution_count": 2,
   "id": "919b9ead",
   "metadata": {},
   "outputs": [
    {
     "name": "stdout",
     "output_type": "stream",
     "text": [
      "the age of jerry3\n"
     ]
    }
   ],
   "source": [
    "#format():- insert a specific value in a string\n",
    "age = \"the age of jerry{g:}\"\n",
    "print(age.format(g=3))"
   ]
  },
  {
   "cell_type": "code",
   "execution_count": 6,
   "id": "b9eab732",
   "metadata": {},
   "outputs": [
    {
     "name": "stdout",
     "output_type": "stream",
     "text": [
      "True\n"
     ]
    }
   ],
   "source": [
    "#isupper\n",
    "#islower\n",
    "#isnumeric\n",
    "str=\"deep\"\n",
    "print(str.islower())\n",
    "\n",
    "str1 = \"HI BRO\"\n",
    "print(str.isupper())\n",
    "\n",
    "str2 = \"hello world1\"\n",
    "print(str2.isnumeric())"
   ]
  },
  {
   "cell_type": "code",
   "execution_count": 2,
   "id": "e548a044",
   "metadata": {},
   "outputs": [
    {
     "name": "stdout",
     "output_type": "stream",
     "text": [
      "True\n"
     ]
    }
   ],
   "source": [
    "str = \"python\"\n",
    "print(str.startswith(\"py\"))"
   ]
  },
  {
   "cell_type": "code",
   "execution_count": 6,
   "id": "4814b6c2",
   "metadata": {},
   "outputs": [
    {
     "name": "stdout",
     "output_type": "stream",
     "text": [
      "[98, 2, 'harry']\n",
      "98\n"
     ]
    }
   ],
   "source": [
    "#list\n",
    "a = [1,2,\"harry\"]\n",
    "a[0]=98\n",
    "print(a)\n",
    "print(a[0])"
   ]
  },
  {
   "cell_type": "code",
   "execution_count": null,
   "id": "62d657ac",
   "metadata": {},
   "outputs": [],
   "source": []
  }
 ],
 "metadata": {
  "kernelspec": {
   "display_name": "Python 3",
   "language": "python",
   "name": "python3"
  },
  "language_info": {
   "codemirror_mode": {
    "name": "ipython",
    "version": 3
   },
   "file_extension": ".py",
   "mimetype": "text/x-python",
   "name": "python",
   "nbconvert_exporter": "python",
   "pygments_lexer": "ipython3",
   "version": "3.8.8"
  }
 },
 "nbformat": 4,
 "nbformat_minor": 5
}
